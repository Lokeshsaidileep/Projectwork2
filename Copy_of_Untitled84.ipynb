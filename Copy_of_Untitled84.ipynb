{
  "nbformat": 4,
  "nbformat_minor": 0,
  "metadata": {
    "colab": {
      "provenance": []
    },
    "kernelspec": {
      "name": "python3",
      "display_name": "Python 3"
    },
    "language_info": {
      "name": "python"
    }
  },
  "cells": [
    {
      "cell_type": "code",
      "execution_count": null,
      "metadata": {
        "colab": {
          "base_uri": "https://localhost:8080/"
        },
        "id": "pi4EU2-R2mbi",
        "outputId": "a0ddb2de-dc69-43b8-a9c6-bfde05cda94c"
      },
      "outputs": [
        {
          "output_type": "stream",
          "name": "stdout",
          "text": [
            "Detected vehicles - North-South: 6, East-West: 9\n",
            "North-South traffic light is now GREEN\n",
            "North-South traffic light is now YELLOW\n",
            "North-South traffic light is now RED\n",
            "East-West traffic light is now GREEN\n",
            "East-West traffic light is now YELLOW\n",
            "East-West traffic light is now RED\n",
            "Detected vehicles - North-South: 5, East-West: 1\n",
            "North-South traffic light is now GREEN\n",
            "North-South traffic light is now YELLOW\n",
            "North-South traffic light is now RED\n",
            "East-West traffic light is now GREEN\n",
            "East-West traffic light is now YELLOW\n",
            "East-West traffic light is now RED\n",
            "Detected vehicles - North-South: 3, East-West: 10\n",
            "North-South traffic light is now GREEN\n",
            "North-South traffic light is now YELLOW\n",
            "North-South traffic light is now RED\n",
            "East-West traffic light is now GREEN\n",
            "East-West traffic light is now YELLOW\n",
            "East-West traffic light is now RED\n"
          ]
        }
      ],
      "source": [
        "import time\n",
        "import random\n",
        "\n",
        "# Define a TrafficLight class\n",
        "class TrafficLight:\n",
        "    def __init__(self, direction):\n",
        "        self.direction = direction  # e.g., \"North-South\" or \"East-West\"\n",
        "        self.state = \"RED\"  # Initial state is RED\n",
        "        self.green_time = 10  # default green time\n",
        "        self.yellow_time = 3\n",
        "        self.red_time = 10\n",
        "\n",
        "    def set_timings(self, green_time, yellow_time, red_time):\n",
        "        self.green_time = green_time\n",
        "        self.yellow_time = yellow_time\n",
        "        self.red_time = red_time\n",
        "\n",
        "    def get_state(self):\n",
        "        return self.state\n",
        "\n",
        "    def switch_to(self, new_state):\n",
        "        self.state = new_state\n",
        "        print(f\"{self.direction} traffic light is now {self.state}\")\n",
        "\n",
        "# Define an Intersection class\n",
        "class Intersection:\n",
        "    def __init__(self):\n",
        "        # Create two traffic lights for an intersection\n",
        "        self.ns_light = TrafficLight(\"North-South\")\n",
        "        self.ew_light = TrafficLight(\"East-West\")\n",
        "\n",
        "    def detect_traffic(self):\n",
        "        # Simulate vehicle count for each direction\n",
        "        ns_vehicle_count = random.randint(0, 10)\n",
        "        ew_vehicle_count = random.randint(0, 10)\n",
        "        return ns_vehicle_count, ew_vehicle_count\n",
        "\n",
        "    def adjust_timings(self, ns_vehicle_count, ew_vehicle_count):\n",
        "        # Adjust green light time based on traffic count\n",
        "        if ns_vehicle_count > ew_vehicle_count:\n",
        "            self.ns_light.set_timings(15, 3, 15)\n",
        "            self.ew_light.set_timings(10, 3, 15)\n",
        "        else:\n",
        "            self.ns_light.set_timings(10, 3, 15)\n",
        "            self.ew_light.set_timings(15, 3, 15)\n",
        "\n",
        "    def control_traffic(self):\n",
        "        # Detect traffic and adjust timings\n",
        "        ns_vehicle_count, ew_vehicle_count = self.detect_traffic()\n",
        "        print(f\"Detected vehicles - North-South: {ns_vehicle_count}, East-West: {ew_vehicle_count}\")\n",
        "\n",
        "        # Adjust timings based on traffic\n",
        "        self.adjust_timings(ns_vehicle_count, ew_vehicle_count)\n",
        "\n",
        "        # Control light sequence\n",
        "        self.ns_light.switch_to(\"GREEN\")\n",
        "        time.sleep(self.ns_light.green_time)\n",
        "        self.ns_light.switch_to(\"YELLOW\")\n",
        "        time.sleep(self.ns_light.yellow_time)\n",
        "        self.ns_light.switch_to(\"RED\")\n",
        "\n",
        "        self.ew_light.switch_to(\"GREEN\")\n",
        "        time.sleep(self.ew_light.green_time)\n",
        "        self.ew_light.switch_to(\"YELLOW\")\n",
        "        time.sleep(self.ew_light.yellow_time)\n",
        "        self.ew_light.switch_to(\"RED\")\n",
        "\n",
        "# Main simulation loop\n",
        "intersection = Intersection()\n",
        "\n",
        "for _ in range(3):  # Run simulation for 3 cycles\n",
        "    intersection.control_traffic()\n",
        "    time.sleep(2)  # Wait before the next cycle\n",
        "\n"
      ]
    }
  ]
}